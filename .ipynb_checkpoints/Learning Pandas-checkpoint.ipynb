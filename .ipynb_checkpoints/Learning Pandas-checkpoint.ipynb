{
 "cells": [
  {
   "cell_type": "markdown",
   "metadata": {},
   "source": [
    "### Pandas"
   ]
  },
  {
   "cell_type": "markdown",
   "metadata": {},
   "source": [
    "<b> Series</b> - (Array of data and data labels, its index)"
   ]
  },
  {
   "cell_type": "code",
   "execution_count": 3,
   "metadata": {
    "collapsed": true
   },
   "outputs": [],
   "source": [
    "import numpy as np\n",
    "import pandas as pd\n",
    "from pandas import Series, DataFrame"
   ]
  },
  {
   "cell_type": "code",
   "execution_count": 4,
   "metadata": {
    "collapsed": false
   },
   "outputs": [],
   "source": [
    "obj = Series([1,2,3,4])"
   ]
  },
  {
   "cell_type": "code",
   "execution_count": 5,
   "metadata": {
    "collapsed": false
   },
   "outputs": [
    {
     "data": {
      "text/plain": [
       "0    1\n",
       "1    2\n",
       "2    3\n",
       "3    4\n",
       "dtype: int64"
      ]
     },
     "execution_count": 5,
     "metadata": {},
     "output_type": "execute_result"
    }
   ],
   "source": [
    "# it will show series with index\n",
    "obj"
   ]
  },
  {
   "cell_type": "code",
   "execution_count": 6,
   "metadata": {
    "collapsed": false
   },
   "outputs": [
    {
     "data": {
      "text/plain": [
       "array([1, 2, 3, 4], dtype=int64)"
      ]
     },
     "execution_count": 6,
     "metadata": {},
     "output_type": "execute_result"
    }
   ],
   "source": [
    "# Let's see values only\n",
    "\n",
    "obj.values"
   ]
  },
  {
   "cell_type": "code",
   "execution_count": 7,
   "metadata": {
    "collapsed": false
   },
   "outputs": [
    {
     "data": {
      "text/plain": [
       "RangeIndex(start=0, stop=4, step=1)"
      ]
     },
     "execution_count": 7,
     "metadata": {},
     "output_type": "execute_result"
    }
   ],
   "source": [
    "# Let's show the index\n",
    "obj.index"
   ]
  },
  {
   "cell_type": "code",
   "execution_count": 8,
   "metadata": {
    "collapsed": true
   },
   "outputs": [],
   "source": [
    "#Let's create a series with an index\n",
    "\n",
    "ww2_cas = Series([870000,430000,400000,300000], index=['USSR','India','USA', 'Germany'])"
   ]
  },
  {
   "cell_type": "code",
   "execution_count": 9,
   "metadata": {
    "collapsed": false
   },
   "outputs": [
    {
     "data": {
      "text/plain": [
       "USSR       870000\n",
       "India      430000\n",
       "USA        400000\n",
       "Germany    300000\n",
       "dtype: int64"
      ]
     },
     "execution_count": 9,
     "metadata": {},
     "output_type": "execute_result"
    }
   ],
   "source": [
    "ww2_cas"
   ]
  },
  {
   "cell_type": "code",
   "execution_count": 10,
   "metadata": {
    "collapsed": false
   },
   "outputs": [
    {
     "data": {
      "text/plain": [
       "430000"
      ]
     },
     "execution_count": 10,
     "metadata": {},
     "output_type": "execute_result"
    }
   ],
   "source": [
    "ww2_cas['India']"
   ]
  },
  {
   "cell_type": "code",
   "execution_count": 15,
   "metadata": {
    "collapsed": false
   },
   "outputs": [
    {
     "data": {
      "text/plain": [
       "Germany    300000\n",
       "dtype: int64"
      ]
     },
     "execution_count": 15,
     "metadata": {},
     "output_type": "execute_result"
    }
   ],
   "source": [
    "ww2_cas[ww2_cas < 400000]"
   ]
  },
  {
   "cell_type": "code",
   "execution_count": 16,
   "metadata": {
    "collapsed": true
   },
   "outputs": [],
   "source": [
    "ww2_dict = ww2_cas.to_dict()"
   ]
  },
  {
   "cell_type": "code",
   "execution_count": 17,
   "metadata": {
    "collapsed": false
   },
   "outputs": [
    {
     "data": {
      "text/plain": [
       "{'Germany': 300000, 'India': 430000, 'USA': 400000, 'USSR': 870000}"
      ]
     },
     "execution_count": 17,
     "metadata": {},
     "output_type": "execute_result"
    }
   ],
   "source": [
    "ww2_dict"
   ]
  },
  {
   "cell_type": "code",
   "execution_count": 18,
   "metadata": {
    "collapsed": false
   },
   "outputs": [
    {
     "data": {
      "text/plain": [
       "430000"
      ]
     },
     "execution_count": 18,
     "metadata": {},
     "output_type": "execute_result"
    }
   ],
   "source": [
    "ww2_dict['India']"
   ]
  },
  {
   "cell_type": "code",
   "execution_count": 19,
   "metadata": {
    "collapsed": true
   },
   "outputs": [],
   "source": [
    "ww2_series = Series(ww2_dict)"
   ]
  },
  {
   "cell_type": "code",
   "execution_count": 20,
   "metadata": {
    "collapsed": false
   },
   "outputs": [
    {
     "data": {
      "text/plain": [
       "Germany    300000\n",
       "India      430000\n",
       "USA        400000\n",
       "USSR       870000\n",
       "dtype: int64"
      ]
     },
     "execution_count": 20,
     "metadata": {},
     "output_type": "execute_result"
    }
   ],
   "source": [
    "ww2_series"
   ]
  },
  {
   "cell_type": "code",
   "execution_count": 21,
   "metadata": {
    "collapsed": true
   },
   "outputs": [],
   "source": [
    "countries = ['USA', 'Germany', 'India', 'USSR', 'China']"
   ]
  },
  {
   "cell_type": "code",
   "execution_count": 22,
   "metadata": {
    "collapsed": true
   },
   "outputs": [],
   "source": [
    "obj2 = Series(ww2_dict, index= countries)"
   ]
  },
  {
   "cell_type": "code",
   "execution_count": 23,
   "metadata": {
    "collapsed": false
   },
   "outputs": [
    {
     "data": {
      "text/plain": [
       "USA        400000.0\n",
       "Germany    300000.0\n",
       "India      430000.0\n",
       "USSR       870000.0\n",
       "China           NaN\n",
       "dtype: float64"
      ]
     },
     "execution_count": 23,
     "metadata": {},
     "output_type": "execute_result"
    }
   ],
   "source": [
    "obj2"
   ]
  },
  {
   "cell_type": "code",
   "execution_count": 25,
   "metadata": {
    "collapsed": false
   },
   "outputs": [
    {
     "data": {
      "text/plain": [
       "USA        False\n",
       "Germany    False\n",
       "India      False\n",
       "USSR       False\n",
       "China       True\n",
       "dtype: bool"
      ]
     },
     "execution_count": 25,
     "metadata": {},
     "output_type": "execute_result"
    }
   ],
   "source": [
    "# We can use isnull and notnull to find missing data\n",
    "obj2.isnull()"
   ]
  },
  {
   "cell_type": "code",
   "execution_count": 27,
   "metadata": {
    "collapsed": false
   },
   "outputs": [
    {
     "data": {
      "text/plain": [
       "USA         True\n",
       "Germany     True\n",
       "India       True\n",
       "USSR        True\n",
       "China      False\n",
       "dtype: bool"
      ]
     },
     "execution_count": 27,
     "metadata": {},
     "output_type": "execute_result"
    }
   ],
   "source": [
    "obj2.notnull()"
   ]
  },
  {
   "cell_type": "code",
   "execution_count": 28,
   "metadata": {
    "collapsed": false
   },
   "outputs": [
    {
     "data": {
      "text/plain": [
       "Germany    300000\n",
       "India      430000\n",
       "USA        400000\n",
       "USSR       870000\n",
       "dtype: int64"
      ]
     },
     "execution_count": 28,
     "metadata": {},
     "output_type": "execute_result"
    }
   ],
   "source": [
    "ww2_series"
   ]
  },
  {
   "cell_type": "code",
   "execution_count": 29,
   "metadata": {
    "collapsed": false
   },
   "outputs": [
    {
     "data": {
      "text/plain": [
       "China            NaN\n",
       "Germany     600000.0\n",
       "India       860000.0\n",
       "USA         800000.0\n",
       "USSR       1740000.0\n",
       "dtype: float64"
      ]
     },
     "execution_count": 29,
     "metadata": {},
     "output_type": "execute_result"
    }
   ],
   "source": [
    "ww2_series + obj2"
   ]
  },
  {
   "cell_type": "code",
   "execution_count": 30,
   "metadata": {
    "collapsed": true
   },
   "outputs": [],
   "source": [
    "obj2.name = 'World war 2 casualities'"
   ]
  },
  {
   "cell_type": "code",
   "execution_count": 31,
   "metadata": {
    "collapsed": false
   },
   "outputs": [
    {
     "data": {
      "text/plain": [
       "USA        400000.0\n",
       "Germany    300000.0\n",
       "India      430000.0\n",
       "USSR       870000.0\n",
       "China           NaN\n",
       "Name: World war 2 casualities, dtype: float64"
      ]
     },
     "execution_count": 31,
     "metadata": {},
     "output_type": "execute_result"
    }
   ],
   "source": [
    "obj2"
   ]
  },
  {
   "cell_type": "code",
   "execution_count": 33,
   "metadata": {
    "collapsed": false
   },
   "outputs": [],
   "source": [
    "obj2.index.name = ('Countries')"
   ]
  },
  {
   "cell_type": "code",
   "execution_count": 35,
   "metadata": {
    "collapsed": false
   },
   "outputs": [
    {
     "data": {
      "text/plain": [
       "Countries\n",
       "USA        400000.0\n",
       "Germany    300000.0\n",
       "India      430000.0\n",
       "USSR       870000.0\n",
       "China           NaN\n",
       "Name: World war 2 casualities, dtype: float64"
      ]
     },
     "execution_count": 35,
     "metadata": {},
     "output_type": "execute_result"
    }
   ],
   "source": [
    "obj2"
   ]
  },
  {
   "cell_type": "markdown",
   "metadata": {},
   "source": [
    "## DataFrames"
   ]
  },
  {
   "cell_type": "code",
   "execution_count": 5,
   "metadata": {
    "collapsed": true
   },
   "outputs": [],
   "source": [
    "import numpy as np\n",
    "from pandas import Series, DataFrame\n",
    "import pandas as pd\n",
    "import webbrowser"
   ]
  },
  {
   "cell_type": "code",
   "execution_count": 6,
   "metadata": {
    "collapsed": false
   },
   "outputs": [],
   "source": [
    "# webiste = 'http://en.wikipedia.org/wiki/NFL_win-loss_records'\n",
    "# webbrowser.open(webiste)"
   ]
  },
  {
   "cell_type": "code",
   "execution_count": 8,
   "metadata": {
    "collapsed": false
   },
   "outputs": [],
   "source": [
    "nfl_frame = pd.read_csv(\"NFL_win_loss.csv\")"
   ]
  },
  {
   "cell_type": "code",
   "execution_count": 10,
   "metadata": {
    "collapsed": false
   },
   "outputs": [
    {
     "data": {
      "text/html": [
       "<div>\n",
       "<table border=\"1\" class=\"dataframe\">\n",
       "  <thead>\n",
       "    <tr style=\"text-align: right;\">\n",
       "      <th></th>\n",
       "      <th>Rank</th>\n",
       "      <th>Team</th>\n",
       "      <th>Won</th>\n",
       "      <th>Lost</th>\n",
       "      <th>Tied</th>\n",
       "      <th>Pct.</th>\n",
       "      <th>First NFL Season</th>\n",
       "      <th>Total Games</th>\n",
       "      <th>Division</th>\n",
       "    </tr>\n",
       "  </thead>\n",
       "  <tbody>\n",
       "    <tr>\n",
       "      <th>0</th>\n",
       "      <td>1</td>\n",
       "      <td>Chicago Bears</td>\n",
       "      <td>741</td>\n",
       "      <td>555</td>\n",
       "      <td>42</td>\n",
       "      <td>0.570</td>\n",
       "      <td>1920</td>\n",
       "      <td>1,338</td>\n",
       "      <td>NFC North</td>\n",
       "    </tr>\n",
       "    <tr>\n",
       "      <th>1</th>\n",
       "      <td>2</td>\n",
       "      <td>Dallas Cowboys</td>\n",
       "      <td>480</td>\n",
       "      <td>364</td>\n",
       "      <td>6</td>\n",
       "      <td>0.568</td>\n",
       "      <td>1960</td>\n",
       "      <td>850</td>\n",
       "      <td>NFC East</td>\n",
       "    </tr>\n",
       "    <tr>\n",
       "      <th>2</th>\n",
       "      <td>3</td>\n",
       "      <td>Green Bay Packers</td>\n",
       "      <td>720</td>\n",
       "      <td>547</td>\n",
       "      <td>37</td>\n",
       "      <td>0.566</td>\n",
       "      <td>1921</td>\n",
       "      <td>1,304</td>\n",
       "      <td>NFC North</td>\n",
       "    </tr>\n",
       "    <tr>\n",
       "      <th>3</th>\n",
       "      <td>4</td>\n",
       "      <td>Miami Dolphins</td>\n",
       "      <td>429</td>\n",
       "      <td>335</td>\n",
       "      <td>4</td>\n",
       "      <td>0.561</td>\n",
       "      <td>1966</td>\n",
       "      <td>768</td>\n",
       "      <td>AFC East</td>\n",
       "    </tr>\n",
       "    <tr>\n",
       "      <th>4</th>\n",
       "      <td>5</td>\n",
       "      <td>New England Patriots</td>\n",
       "      <td>462</td>\n",
       "      <td>381</td>\n",
       "      <td>9</td>\n",
       "      <td>0.548</td>\n",
       "      <td>1960</td>\n",
       "      <td>852</td>\n",
       "      <td>AFC East</td>\n",
       "    </tr>\n",
       "  </tbody>\n",
       "</table>\n",
       "</div>"
      ],
      "text/plain": [
       "   Rank                  Team  Won  Lost  Tied   Pct.  First NFL Season  \\\n",
       "0     1         Chicago Bears  741   555    42  0.570              1920   \n",
       "1     2        Dallas Cowboys  480   364     6  0.568              1960   \n",
       "2     3     Green Bay Packers  720   547    37  0.566              1921   \n",
       "3     4        Miami Dolphins  429   335     4  0.561              1966   \n",
       "4     5  New England Patriots  462   381     9  0.548              1960   \n",
       "\n",
       "  Total Games   Division  \n",
       "0       1,338  NFC North  \n",
       "1         850   NFC East  \n",
       "2       1,304  NFC North  \n",
       "3         768   AFC East  \n",
       "4         852   AFC East  "
      ]
     },
     "execution_count": 10,
     "metadata": {},
     "output_type": "execute_result"
    }
   ],
   "source": [
    "nfl_frame.head()"
   ]
  },
  {
   "cell_type": "code",
   "execution_count": 11,
   "metadata": {
    "collapsed": false
   },
   "outputs": [
    {
     "data": {
      "text/plain": [
       "Index(['Rank', 'Team', 'Won', 'Lost', 'Tied', 'Pct.', 'First NFL Season',\n",
       "       'Total Games', 'Division'],\n",
       "      dtype='object')"
      ]
     },
     "execution_count": 11,
     "metadata": {},
     "output_type": "execute_result"
    }
   ],
   "source": [
    "nfl_frame.columns"
   ]
  },
  {
   "cell_type": "code",
   "execution_count": 14,
   "metadata": {
    "collapsed": false
   },
   "outputs": [
    {
     "data": {
      "text/plain": [
       "0            Chicago Bears\n",
       "1           Dallas Cowboys\n",
       "2        Green Bay Packers\n",
       "3           Miami Dolphins\n",
       "4     New England Patriots\n",
       "5      San Francisco 49ers\n",
       "6         Baltimore Ravens\n",
       "7        Minnesota Vikings\n",
       "8          New York Giants\n",
       "9           Denver Broncos\n",
       "10      Indianapolis Colts\n",
       "11         Oakland Raiders\n",
       "12     Pittsburgh Steelers\n",
       "13      Kansas City Chiefs\n",
       "14     Washington Redskins\n",
       "15        Cleveland Browns\n",
       "16        Seattle Seahawks\n",
       "17      San Diego Chargers\n",
       "18        Los Angeles Rams\n",
       "Name: Team, dtype: object"
      ]
     },
     "execution_count": 14,
     "metadata": {},
     "output_type": "execute_result"
    }
   ],
   "source": [
    "nfl_frame.Team"
   ]
  },
  {
   "cell_type": "code",
   "execution_count": 15,
   "metadata": {
    "collapsed": false
   },
   "outputs": [
    {
     "data": {
      "text/html": [
       "<div>\n",
       "<table border=\"1\" class=\"dataframe\">\n",
       "  <thead>\n",
       "    <tr style=\"text-align: right;\">\n",
       "      <th></th>\n",
       "      <th>Team</th>\n",
       "      <th>Total Games</th>\n",
       "      <th>Division</th>\n",
       "    </tr>\n",
       "  </thead>\n",
       "  <tbody>\n",
       "    <tr>\n",
       "      <th>0</th>\n",
       "      <td>Chicago Bears</td>\n",
       "      <td>1,338</td>\n",
       "      <td>NFC North</td>\n",
       "    </tr>\n",
       "    <tr>\n",
       "      <th>1</th>\n",
       "      <td>Dallas Cowboys</td>\n",
       "      <td>850</td>\n",
       "      <td>NFC East</td>\n",
       "    </tr>\n",
       "    <tr>\n",
       "      <th>2</th>\n",
       "      <td>Green Bay Packers</td>\n",
       "      <td>1,304</td>\n",
       "      <td>NFC North</td>\n",
       "    </tr>\n",
       "    <tr>\n",
       "      <th>3</th>\n",
       "      <td>Miami Dolphins</td>\n",
       "      <td>768</td>\n",
       "      <td>AFC East</td>\n",
       "    </tr>\n",
       "    <tr>\n",
       "      <th>4</th>\n",
       "      <td>New England Patriots</td>\n",
       "      <td>852</td>\n",
       "      <td>AFC East</td>\n",
       "    </tr>\n",
       "    <tr>\n",
       "      <th>5</th>\n",
       "      <td>San Francisco 49ers</td>\n",
       "      <td>970</td>\n",
       "      <td>NFC West</td>\n",
       "    </tr>\n",
       "    <tr>\n",
       "      <th>6</th>\n",
       "      <td>Baltimore Ravens</td>\n",
       "      <td>320</td>\n",
       "      <td>AFC North</td>\n",
       "    </tr>\n",
       "    <tr>\n",
       "      <th>7</th>\n",
       "      <td>Minnesota Vikings</td>\n",
       "      <td>838</td>\n",
       "      <td>NFC North</td>\n",
       "    </tr>\n",
       "    <tr>\n",
       "      <th>8</th>\n",
       "      <td>New York Giants</td>\n",
       "      <td>1,273</td>\n",
       "      <td>NFC East</td>\n",
       "    </tr>\n",
       "    <tr>\n",
       "      <th>9</th>\n",
       "      <td>Denver Broncos</td>\n",
       "      <td>852</td>\n",
       "      <td>AFC West</td>\n",
       "    </tr>\n",
       "    <tr>\n",
       "      <th>10</th>\n",
       "      <td>Indianapolis Colts</td>\n",
       "      <td>934</td>\n",
       "      <td>AFC South</td>\n",
       "    </tr>\n",
       "    <tr>\n",
       "      <th>11</th>\n",
       "      <td>Oakland Raiders</td>\n",
       "      <td>852</td>\n",
       "      <td>AFC West</td>\n",
       "    </tr>\n",
       "    <tr>\n",
       "      <th>12</th>\n",
       "      <td>Pittsburgh Steelers</td>\n",
       "      <td>1,140</td>\n",
       "      <td>AFC North</td>\n",
       "    </tr>\n",
       "    <tr>\n",
       "      <th>13</th>\n",
       "      <td>Kansas City Chiefs</td>\n",
       "      <td>852</td>\n",
       "      <td>AFC West</td>\n",
       "    </tr>\n",
       "    <tr>\n",
       "      <th>14</th>\n",
       "      <td>Washington Redskins</td>\n",
       "      <td>1,170</td>\n",
       "      <td>NFC East</td>\n",
       "    </tr>\n",
       "    <tr>\n",
       "      <th>15</th>\n",
       "      <td>Cleveland Browns</td>\n",
       "      <td>922</td>\n",
       "      <td>AFC North</td>\n",
       "    </tr>\n",
       "    <tr>\n",
       "      <th>16</th>\n",
       "      <td>Seattle Seahawks</td>\n",
       "      <td>628</td>\n",
       "      <td>NFC West</td>\n",
       "    </tr>\n",
       "    <tr>\n",
       "      <th>17</th>\n",
       "      <td>San Diego Chargers</td>\n",
       "      <td>852</td>\n",
       "      <td>AFC West</td>\n",
       "    </tr>\n",
       "    <tr>\n",
       "      <th>18</th>\n",
       "      <td>Los Angeles Rams</td>\n",
       "      <td>1,103</td>\n",
       "      <td>NFC Wes</td>\n",
       "    </tr>\n",
       "  </tbody>\n",
       "</table>\n",
       "</div>"
      ],
      "text/plain": [
       "                    Team Total Games   Division\n",
       "0          Chicago Bears       1,338  NFC North\n",
       "1         Dallas Cowboys         850   NFC East\n",
       "2      Green Bay Packers       1,304  NFC North\n",
       "3         Miami Dolphins         768   AFC East\n",
       "4   New England Patriots         852   AFC East\n",
       "5    San Francisco 49ers         970   NFC West\n",
       "6       Baltimore Ravens         320  AFC North\n",
       "7      Minnesota Vikings         838  NFC North\n",
       "8        New York Giants       1,273   NFC East\n",
       "9         Denver Broncos         852   AFC West\n",
       "10    Indianapolis Colts         934  AFC South\n",
       "11       Oakland Raiders         852   AFC West\n",
       "12   Pittsburgh Steelers       1,140  AFC North\n",
       "13    Kansas City Chiefs         852   AFC West\n",
       "14   Washington Redskins       1,170   NFC East\n",
       "15      Cleveland Browns         922  AFC North\n",
       "16      Seattle Seahawks         628   NFC West\n",
       "17    San Diego Chargers         852   AFC West\n",
       "18      Los Angeles Rams       1,103    NFC Wes"
      ]
     },
     "execution_count": 15,
     "metadata": {},
     "output_type": "execute_result"
    }
   ],
   "source": [
    "DataFrame(nfl_frame, columns=['Team', 'Total Games', 'Division'])"
   ]
  },
  {
   "cell_type": "code",
   "execution_count": 17,
   "metadata": {
    "collapsed": false
   },
   "outputs": [
    {
     "data": {
      "text/html": [
       "<div>\n",
       "<table border=\"1\" class=\"dataframe\">\n",
       "  <thead>\n",
       "    <tr style=\"text-align: right;\">\n",
       "      <th></th>\n",
       "      <th>Team</th>\n",
       "      <th>Total Games</th>\n",
       "      <th>Won</th>\n",
       "      <th>Lost</th>\n",
       "      <th>Ration</th>\n",
       "    </tr>\n",
       "  </thead>\n",
       "  <tbody>\n",
       "    <tr>\n",
       "      <th>0</th>\n",
       "      <td>Chicago Bears</td>\n",
       "      <td>1,338</td>\n",
       "      <td>741</td>\n",
       "      <td>555</td>\n",
       "      <td>NaN</td>\n",
       "    </tr>\n",
       "    <tr>\n",
       "      <th>1</th>\n",
       "      <td>Dallas Cowboys</td>\n",
       "      <td>850</td>\n",
       "      <td>480</td>\n",
       "      <td>364</td>\n",
       "      <td>NaN</td>\n",
       "    </tr>\n",
       "    <tr>\n",
       "      <th>2</th>\n",
       "      <td>Green Bay Packers</td>\n",
       "      <td>1,304</td>\n",
       "      <td>720</td>\n",
       "      <td>547</td>\n",
       "      <td>NaN</td>\n",
       "    </tr>\n",
       "    <tr>\n",
       "      <th>3</th>\n",
       "      <td>Miami Dolphins</td>\n",
       "      <td>768</td>\n",
       "      <td>429</td>\n",
       "      <td>335</td>\n",
       "      <td>NaN</td>\n",
       "    </tr>\n",
       "    <tr>\n",
       "      <th>4</th>\n",
       "      <td>New England Patriots</td>\n",
       "      <td>852</td>\n",
       "      <td>462</td>\n",
       "      <td>381</td>\n",
       "      <td>NaN</td>\n",
       "    </tr>\n",
       "    <tr>\n",
       "      <th>5</th>\n",
       "      <td>San Francisco 49ers</td>\n",
       "      <td>970</td>\n",
       "      <td>520</td>\n",
       "      <td>436</td>\n",
       "      <td>NaN</td>\n",
       "    </tr>\n",
       "    <tr>\n",
       "      <th>6</th>\n",
       "      <td>Baltimore Ravens</td>\n",
       "      <td>320</td>\n",
       "      <td>173</td>\n",
       "      <td>146</td>\n",
       "      <td>NaN</td>\n",
       "    </tr>\n",
       "    <tr>\n",
       "      <th>7</th>\n",
       "      <td>Minnesota Vikings</td>\n",
       "      <td>838</td>\n",
       "      <td>449</td>\n",
       "      <td>379</td>\n",
       "      <td>NaN</td>\n",
       "    </tr>\n",
       "    <tr>\n",
       "      <th>8</th>\n",
       "      <td>New York Giants</td>\n",
       "      <td>1,273</td>\n",
       "      <td>673</td>\n",
       "      <td>567</td>\n",
       "      <td>NaN</td>\n",
       "    </tr>\n",
       "    <tr>\n",
       "      <th>9</th>\n",
       "      <td>Denver Broncos</td>\n",
       "      <td>852</td>\n",
       "      <td>456</td>\n",
       "      <td>386</td>\n",
       "      <td>NaN</td>\n",
       "    </tr>\n",
       "    <tr>\n",
       "      <th>10</th>\n",
       "      <td>Indianapolis Colts</td>\n",
       "      <td>934</td>\n",
       "      <td>494</td>\n",
       "      <td>433</td>\n",
       "      <td>NaN</td>\n",
       "    </tr>\n",
       "    <tr>\n",
       "      <th>11</th>\n",
       "      <td>Oakland Raiders</td>\n",
       "      <td>852</td>\n",
       "      <td>444</td>\n",
       "      <td>397</td>\n",
       "      <td>NaN</td>\n",
       "    </tr>\n",
       "    <tr>\n",
       "      <th>12</th>\n",
       "      <td>Pittsburgh Steelers</td>\n",
       "      <td>1,140</td>\n",
       "      <td>590</td>\n",
       "      <td>530</td>\n",
       "      <td>NaN</td>\n",
       "    </tr>\n",
       "    <tr>\n",
       "      <th>13</th>\n",
       "      <td>Kansas City Chiefs</td>\n",
       "      <td>852</td>\n",
       "      <td>435</td>\n",
       "      <td>405</td>\n",
       "      <td>NaN</td>\n",
       "    </tr>\n",
       "    <tr>\n",
       "      <th>14</th>\n",
       "      <td>Washington Redskins</td>\n",
       "      <td>1,170</td>\n",
       "      <td>578</td>\n",
       "      <td>565</td>\n",
       "      <td>NaN</td>\n",
       "    </tr>\n",
       "    <tr>\n",
       "      <th>15</th>\n",
       "      <td>Cleveland Browns</td>\n",
       "      <td>922</td>\n",
       "      <td>461</td>\n",
       "      <td>451</td>\n",
       "      <td>NaN</td>\n",
       "    </tr>\n",
       "    <tr>\n",
       "      <th>16</th>\n",
       "      <td>Seattle Seahawks</td>\n",
       "      <td>628</td>\n",
       "      <td>315</td>\n",
       "      <td>313</td>\n",
       "      <td>NaN</td>\n",
       "    </tr>\n",
       "    <tr>\n",
       "      <th>17</th>\n",
       "      <td>San Diego Chargers</td>\n",
       "      <td>852</td>\n",
       "      <td>421</td>\n",
       "      <td>420</td>\n",
       "      <td>NaN</td>\n",
       "    </tr>\n",
       "    <tr>\n",
       "      <th>18</th>\n",
       "      <td>Los Angeles Rams</td>\n",
       "      <td>1,103</td>\n",
       "      <td>540</td>\n",
       "      <td>542</td>\n",
       "      <td>NaN</td>\n",
       "    </tr>\n",
       "  </tbody>\n",
       "</table>\n",
       "</div>"
      ],
      "text/plain": [
       "                    Team Total Games  Won  Lost  Ration\n",
       "0          Chicago Bears       1,338  741   555     NaN\n",
       "1         Dallas Cowboys         850  480   364     NaN\n",
       "2      Green Bay Packers       1,304  720   547     NaN\n",
       "3         Miami Dolphins         768  429   335     NaN\n",
       "4   New England Patriots         852  462   381     NaN\n",
       "5    San Francisco 49ers         970  520   436     NaN\n",
       "6       Baltimore Ravens         320  173   146     NaN\n",
       "7      Minnesota Vikings         838  449   379     NaN\n",
       "8        New York Giants       1,273  673   567     NaN\n",
       "9         Denver Broncos         852  456   386     NaN\n",
       "10    Indianapolis Colts         934  494   433     NaN\n",
       "11       Oakland Raiders         852  444   397     NaN\n",
       "12   Pittsburgh Steelers       1,140  590   530     NaN\n",
       "13    Kansas City Chiefs         852  435   405     NaN\n",
       "14   Washington Redskins       1,170  578   565     NaN\n",
       "15      Cleveland Browns         922  461   451     NaN\n",
       "16      Seattle Seahawks         628  315   313     NaN\n",
       "17    San Diego Chargers         852  421   420     NaN\n",
       "18      Los Angeles Rams       1,103  540   542     NaN"
      ]
     },
     "execution_count": 17,
     "metadata": {},
     "output_type": "execute_result"
    }
   ],
   "source": [
    "DataFrame(nfl_frame, columns=['Team', 'Total Games', 'Won', 'Lost', 'Ration'])"
   ]
  },
  {
   "cell_type": "code",
   "execution_count": 20,
   "metadata": {
    "collapsed": false
   },
   "outputs": [],
   "source": [
    "nfl_frame['Ration'] = nfl_frame.Won/nfl_frame.Lost"
   ]
  },
  {
   "cell_type": "code",
   "execution_count": 21,
   "metadata": {
    "collapsed": false
   },
   "outputs": [
    {
     "data": {
      "text/html": [
       "<div>\n",
       "<table border=\"1\" class=\"dataframe\">\n",
       "  <thead>\n",
       "    <tr style=\"text-align: right;\">\n",
       "      <th></th>\n",
       "      <th>Rank</th>\n",
       "      <th>Team</th>\n",
       "      <th>Won</th>\n",
       "      <th>Lost</th>\n",
       "      <th>Tied</th>\n",
       "      <th>Pct.</th>\n",
       "      <th>First NFL Season</th>\n",
       "      <th>Total Games</th>\n",
       "      <th>Division</th>\n",
       "      <th>Ration</th>\n",
       "    </tr>\n",
       "  </thead>\n",
       "  <tbody>\n",
       "    <tr>\n",
       "      <th>0</th>\n",
       "      <td>1</td>\n",
       "      <td>Chicago Bears</td>\n",
       "      <td>741</td>\n",
       "      <td>555</td>\n",
       "      <td>42</td>\n",
       "      <td>0.570</td>\n",
       "      <td>1920</td>\n",
       "      <td>1,338</td>\n",
       "      <td>NFC North</td>\n",
       "      <td>1.335135</td>\n",
       "    </tr>\n",
       "    <tr>\n",
       "      <th>1</th>\n",
       "      <td>2</td>\n",
       "      <td>Dallas Cowboys</td>\n",
       "      <td>480</td>\n",
       "      <td>364</td>\n",
       "      <td>6</td>\n",
       "      <td>0.568</td>\n",
       "      <td>1960</td>\n",
       "      <td>850</td>\n",
       "      <td>NFC East</td>\n",
       "      <td>1.318681</td>\n",
       "    </tr>\n",
       "    <tr>\n",
       "      <th>2</th>\n",
       "      <td>3</td>\n",
       "      <td>Green Bay Packers</td>\n",
       "      <td>720</td>\n",
       "      <td>547</td>\n",
       "      <td>37</td>\n",
       "      <td>0.566</td>\n",
       "      <td>1921</td>\n",
       "      <td>1,304</td>\n",
       "      <td>NFC North</td>\n",
       "      <td>1.316271</td>\n",
       "    </tr>\n",
       "    <tr>\n",
       "      <th>3</th>\n",
       "      <td>4</td>\n",
       "      <td>Miami Dolphins</td>\n",
       "      <td>429</td>\n",
       "      <td>335</td>\n",
       "      <td>4</td>\n",
       "      <td>0.561</td>\n",
       "      <td>1966</td>\n",
       "      <td>768</td>\n",
       "      <td>AFC East</td>\n",
       "      <td>1.280597</td>\n",
       "    </tr>\n",
       "    <tr>\n",
       "      <th>4</th>\n",
       "      <td>5</td>\n",
       "      <td>New England Patriots</td>\n",
       "      <td>462</td>\n",
       "      <td>381</td>\n",
       "      <td>9</td>\n",
       "      <td>0.548</td>\n",
       "      <td>1960</td>\n",
       "      <td>852</td>\n",
       "      <td>AFC East</td>\n",
       "      <td>1.212598</td>\n",
       "    </tr>\n",
       "    <tr>\n",
       "      <th>5</th>\n",
       "      <td>6</td>\n",
       "      <td>San Francisco 49ers</td>\n",
       "      <td>520</td>\n",
       "      <td>436</td>\n",
       "      <td>14</td>\n",
       "      <td>0.543</td>\n",
       "      <td>1950</td>\n",
       "      <td>970</td>\n",
       "      <td>NFC West</td>\n",
       "      <td>1.192661</td>\n",
       "    </tr>\n",
       "    <tr>\n",
       "      <th>6</th>\n",
       "      <td>7</td>\n",
       "      <td>Baltimore Ravens</td>\n",
       "      <td>173</td>\n",
       "      <td>146</td>\n",
       "      <td>1</td>\n",
       "      <td>0.542</td>\n",
       "      <td>1996</td>\n",
       "      <td>320</td>\n",
       "      <td>AFC North</td>\n",
       "      <td>1.184932</td>\n",
       "    </tr>\n",
       "    <tr>\n",
       "      <th>7</th>\n",
       "      <td>8</td>\n",
       "      <td>Minnesota Vikings</td>\n",
       "      <td>449</td>\n",
       "      <td>379</td>\n",
       "      <td>10</td>\n",
       "      <td>0.542</td>\n",
       "      <td>1961</td>\n",
       "      <td>838</td>\n",
       "      <td>NFC North</td>\n",
       "      <td>1.184697</td>\n",
       "    </tr>\n",
       "    <tr>\n",
       "      <th>8</th>\n",
       "      <td>9</td>\n",
       "      <td>New York Giants</td>\n",
       "      <td>673</td>\n",
       "      <td>567</td>\n",
       "      <td>33</td>\n",
       "      <td>0.542</td>\n",
       "      <td>1925</td>\n",
       "      <td>1,273</td>\n",
       "      <td>NFC East</td>\n",
       "      <td>1.186949</td>\n",
       "    </tr>\n",
       "    <tr>\n",
       "      <th>9</th>\n",
       "      <td>10</td>\n",
       "      <td>Denver Broncos</td>\n",
       "      <td>456</td>\n",
       "      <td>386</td>\n",
       "      <td>10</td>\n",
       "      <td>0.541</td>\n",
       "      <td>1960</td>\n",
       "      <td>852</td>\n",
       "      <td>AFC West</td>\n",
       "      <td>1.181347</td>\n",
       "    </tr>\n",
       "    <tr>\n",
       "      <th>10</th>\n",
       "      <td>11</td>\n",
       "      <td>Indianapolis Colts</td>\n",
       "      <td>494</td>\n",
       "      <td>433</td>\n",
       "      <td>7</td>\n",
       "      <td>0.533</td>\n",
       "      <td>1953</td>\n",
       "      <td>934</td>\n",
       "      <td>AFC South</td>\n",
       "      <td>1.140878</td>\n",
       "    </tr>\n",
       "    <tr>\n",
       "      <th>11</th>\n",
       "      <td>12</td>\n",
       "      <td>Oakland Raiders</td>\n",
       "      <td>444</td>\n",
       "      <td>397</td>\n",
       "      <td>11</td>\n",
       "      <td>0.528</td>\n",
       "      <td>1960</td>\n",
       "      <td>852</td>\n",
       "      <td>AFC West</td>\n",
       "      <td>1.118388</td>\n",
       "    </tr>\n",
       "    <tr>\n",
       "      <th>12</th>\n",
       "      <td>13</td>\n",
       "      <td>Pittsburgh Steelers</td>\n",
       "      <td>590</td>\n",
       "      <td>530</td>\n",
       "      <td>20</td>\n",
       "      <td>0.526</td>\n",
       "      <td>1933</td>\n",
       "      <td>1,140</td>\n",
       "      <td>AFC North</td>\n",
       "      <td>1.113208</td>\n",
       "    </tr>\n",
       "    <tr>\n",
       "      <th>13</th>\n",
       "      <td>14</td>\n",
       "      <td>Kansas City Chiefs</td>\n",
       "      <td>435</td>\n",
       "      <td>405</td>\n",
       "      <td>12</td>\n",
       "      <td>0.518</td>\n",
       "      <td>1960</td>\n",
       "      <td>852</td>\n",
       "      <td>AFC West</td>\n",
       "      <td>1.074074</td>\n",
       "    </tr>\n",
       "    <tr>\n",
       "      <th>14</th>\n",
       "      <td>15</td>\n",
       "      <td>Washington Redskins</td>\n",
       "      <td>578</td>\n",
       "      <td>565</td>\n",
       "      <td>27</td>\n",
       "      <td>0.506</td>\n",
       "      <td>1932</td>\n",
       "      <td>1,170</td>\n",
       "      <td>NFC East</td>\n",
       "      <td>1.023009</td>\n",
       "    </tr>\n",
       "    <tr>\n",
       "      <th>15</th>\n",
       "      <td>16</td>\n",
       "      <td>Cleveland Browns</td>\n",
       "      <td>461</td>\n",
       "      <td>451</td>\n",
       "      <td>10</td>\n",
       "      <td>0.505</td>\n",
       "      <td>1950</td>\n",
       "      <td>922</td>\n",
       "      <td>AFC North</td>\n",
       "      <td>1.022173</td>\n",
       "    </tr>\n",
       "    <tr>\n",
       "      <th>16</th>\n",
       "      <td>17</td>\n",
       "      <td>Seattle Seahawks</td>\n",
       "      <td>315</td>\n",
       "      <td>313</td>\n",
       "      <td>0</td>\n",
       "      <td>0.502</td>\n",
       "      <td>1976</td>\n",
       "      <td>628</td>\n",
       "      <td>NFC West</td>\n",
       "      <td>1.006390</td>\n",
       "    </tr>\n",
       "    <tr>\n",
       "      <th>17</th>\n",
       "      <td>18</td>\n",
       "      <td>San Diego Chargers</td>\n",
       "      <td>421</td>\n",
       "      <td>420</td>\n",
       "      <td>11</td>\n",
       "      <td>0.501</td>\n",
       "      <td>1960</td>\n",
       "      <td>852</td>\n",
       "      <td>AFC West</td>\n",
       "      <td>1.002381</td>\n",
       "    </tr>\n",
       "    <tr>\n",
       "      <th>18</th>\n",
       "      <td>19</td>\n",
       "      <td>Los Angeles Rams</td>\n",
       "      <td>540</td>\n",
       "      <td>542</td>\n",
       "      <td>21</td>\n",
       "      <td>0.499</td>\n",
       "      <td>1937</td>\n",
       "      <td>1,103</td>\n",
       "      <td>NFC Wes</td>\n",
       "      <td>0.996310</td>\n",
       "    </tr>\n",
       "  </tbody>\n",
       "</table>\n",
       "</div>"
      ],
      "text/plain": [
       "    Rank                  Team  Won  Lost  Tied   Pct.  First NFL Season  \\\n",
       "0      1         Chicago Bears  741   555    42  0.570              1920   \n",
       "1      2        Dallas Cowboys  480   364     6  0.568              1960   \n",
       "2      3     Green Bay Packers  720   547    37  0.566              1921   \n",
       "3      4        Miami Dolphins  429   335     4  0.561              1966   \n",
       "4      5  New England Patriots  462   381     9  0.548              1960   \n",
       "5      6   San Francisco 49ers  520   436    14  0.543              1950   \n",
       "6      7      Baltimore Ravens  173   146     1  0.542              1996   \n",
       "7      8     Minnesota Vikings  449   379    10  0.542              1961   \n",
       "8      9       New York Giants  673   567    33  0.542              1925   \n",
       "9     10        Denver Broncos  456   386    10  0.541              1960   \n",
       "10    11    Indianapolis Colts  494   433     7  0.533              1953   \n",
       "11    12       Oakland Raiders  444   397    11  0.528              1960   \n",
       "12    13   Pittsburgh Steelers  590   530    20  0.526              1933   \n",
       "13    14    Kansas City Chiefs  435   405    12  0.518              1960   \n",
       "14    15   Washington Redskins  578   565    27  0.506              1932   \n",
       "15    16      Cleveland Browns  461   451    10  0.505              1950   \n",
       "16    17      Seattle Seahawks  315   313     0  0.502              1976   \n",
       "17    18    San Diego Chargers  421   420    11  0.501              1960   \n",
       "18    19      Los Angeles Rams  540   542    21  0.499              1937   \n",
       "\n",
       "   Total Games   Division    Ration  \n",
       "0        1,338  NFC North  1.335135  \n",
       "1          850   NFC East  1.318681  \n",
       "2        1,304  NFC North  1.316271  \n",
       "3          768   AFC East  1.280597  \n",
       "4          852   AFC East  1.212598  \n",
       "5          970   NFC West  1.192661  \n",
       "6          320  AFC North  1.184932  \n",
       "7          838  NFC North  1.184697  \n",
       "8        1,273   NFC East  1.186949  \n",
       "9          852   AFC West  1.181347  \n",
       "10         934  AFC South  1.140878  \n",
       "11         852   AFC West  1.118388  \n",
       "12       1,140  AFC North  1.113208  \n",
       "13         852   AFC West  1.074074  \n",
       "14       1,170   NFC East  1.023009  \n",
       "15         922  AFC North  1.022173  \n",
       "16         628   NFC West  1.006390  \n",
       "17         852   AFC West  1.002381  \n",
       "18       1,103    NFC Wes  0.996310  "
      ]
     },
     "execution_count": 21,
     "metadata": {},
     "output_type": "execute_result"
    }
   ],
   "source": [
    "nfl_frame"
   ]
  },
  {
   "cell_type": "code",
   "execution_count": 31,
   "metadata": {
    "collapsed": true
   },
   "outputs": [],
   "source": [
    "data = {'City': ['India', 'USA', 'Russia', 'China'], 'Population': [50000000,40000100,5000000,549818545]}"
   ]
  },
  {
   "cell_type": "code",
   "execution_count": 43,
   "metadata": {
    "collapsed": true
   },
   "outputs": [],
   "source": [
    "city_frame = DataFrame(data)"
   ]
  },
  {
   "cell_type": "code",
   "execution_count": 44,
   "metadata": {
    "collapsed": false
   },
   "outputs": [
    {
     "data": {
      "text/html": [
       "<div>\n",
       "<table border=\"1\" class=\"dataframe\">\n",
       "  <thead>\n",
       "    <tr style=\"text-align: right;\">\n",
       "      <th></th>\n",
       "      <th>City</th>\n",
       "      <th>Population</th>\n",
       "    </tr>\n",
       "  </thead>\n",
       "  <tbody>\n",
       "    <tr>\n",
       "      <th>0</th>\n",
       "      <td>India</td>\n",
       "      <td>50000000</td>\n",
       "    </tr>\n",
       "    <tr>\n",
       "      <th>1</th>\n",
       "      <td>USA</td>\n",
       "      <td>40000100</td>\n",
       "    </tr>\n",
       "    <tr>\n",
       "      <th>2</th>\n",
       "      <td>Russia</td>\n",
       "      <td>5000000</td>\n",
       "    </tr>\n",
       "    <tr>\n",
       "      <th>3</th>\n",
       "      <td>China</td>\n",
       "      <td>549818545</td>\n",
       "    </tr>\n",
       "  </tbody>\n",
       "</table>\n",
       "</div>"
      ],
      "text/plain": [
       "     City  Population\n",
       "0   India    50000000\n",
       "1     USA    40000100\n",
       "2  Russia     5000000\n",
       "3   China   549818545"
      ]
     },
     "execution_count": 44,
     "metadata": {},
     "output_type": "execute_result"
    }
   ],
   "source": [
    "city_frame"
   ]
  },
  {
   "cell_type": "code",
   "execution_count": null,
   "metadata": {
    "collapsed": true
   },
   "outputs": [],
   "source": [
    "city_frame = np.where(city_frame.Population < 40000100, 500000000, city_frame.Population)"
   ]
  },
  {
   "cell_type": "code",
   "execution_count": 41,
   "metadata": {
    "collapsed": false
   },
   "outputs": [
    {
     "data": {
      "text/plain": [
       "array([ 50000000,  40000100, 500000000, 549818545], dtype=int64)"
      ]
     },
     "execution_count": 41,
     "metadata": {},
     "output_type": "execute_result"
    }
   ],
   "source": [
    "city_frame"
   ]
  },
  {
   "cell_type": "code",
   "execution_count": null,
   "metadata": {
    "collapsed": true
   },
   "outputs": [],
   "source": []
  },
  {
   "cell_type": "markdown",
   "metadata": {},
   "source": [
    "## Index Objects"
   ]
  },
  {
   "cell_type": "code",
   "execution_count": 45,
   "metadata": {
    "collapsed": true
   },
   "outputs": [],
   "source": [
    "my_series = Series([1,2,3,4], index=['A','B','C','D'])"
   ]
  },
  {
   "cell_type": "code",
   "execution_count": 46,
   "metadata": {
    "collapsed": false
   },
   "outputs": [
    {
     "data": {
      "text/plain": [
       "A    1\n",
       "B    2\n",
       "C    3\n",
       "D    4\n",
       "dtype: int64"
      ]
     },
     "execution_count": 46,
     "metadata": {},
     "output_type": "execute_result"
    }
   ],
   "source": [
    "my_series"
   ]
  },
  {
   "cell_type": "code",
   "execution_count": 47,
   "metadata": {
    "collapsed": true
   },
   "outputs": [],
   "source": [
    "my_index = my_series.index"
   ]
  },
  {
   "cell_type": "code",
   "execution_count": 48,
   "metadata": {
    "collapsed": false
   },
   "outputs": [
    {
     "data": {
      "text/plain": [
       "Index(['A', 'B', 'C', 'D'], dtype='object')"
      ]
     },
     "execution_count": 48,
     "metadata": {},
     "output_type": "execute_result"
    }
   ],
   "source": [
    "my_index"
   ]
  },
  {
   "cell_type": "code",
   "execution_count": 49,
   "metadata": {
    "collapsed": false
   },
   "outputs": [
    {
     "data": {
      "text/plain": [
       "'A'"
      ]
     },
     "execution_count": 49,
     "metadata": {},
     "output_type": "execute_result"
    }
   ],
   "source": [
    "my_index[0]"
   ]
  },
  {
   "cell_type": "code",
   "execution_count": 50,
   "metadata": {
    "collapsed": false
   },
   "outputs": [
    {
     "data": {
      "text/plain": [
       "Index(['C', 'D'], dtype='object')"
      ]
     },
     "execution_count": 50,
     "metadata": {},
     "output_type": "execute_result"
    }
   ],
   "source": [
    "my_index[2:]"
   ]
  },
  {
   "cell_type": "code",
   "execution_count": 51,
   "metadata": {
    "collapsed": false
   },
   "outputs": [
    {
     "data": {
      "text/plain": [
       "'C'"
      ]
     },
     "execution_count": 51,
     "metadata": {},
     "output_type": "execute_result"
    }
   ],
   "source": [
    "my_index[2]"
   ]
  },
  {
   "cell_type": "code",
   "execution_count": 52,
   "metadata": {
    "collapsed": false
   },
   "outputs": [
    {
     "data": {
      "text/plain": [
       "'D'"
      ]
     },
     "execution_count": 52,
     "metadata": {},
     "output_type": "execute_result"
    }
   ],
   "source": [
    "my_index[-1]"
   ]
  },
  {
   "cell_type": "code",
   "execution_count": 54,
   "metadata": {
    "collapsed": false
   },
   "outputs": [
    {
     "data": {
      "text/plain": [
       "Index(['A'], dtype='object')"
      ]
     },
     "execution_count": 54,
     "metadata": {},
     "output_type": "execute_result"
    }
   ],
   "source": [
    "my_index[:1]"
   ]
  },
  {
   "cell_type": "code",
   "execution_count": 55,
   "metadata": {
    "collapsed": false
   },
   "outputs": [
    {
     "ename": "TypeError",
     "evalue": "Index does not support mutable operations",
     "output_type": "error",
     "traceback": [
      "\u001b[1;31m---------------------------------------------------------------------------\u001b[0m",
      "\u001b[1;31mTypeError\u001b[0m                                 Traceback (most recent call last)",
      "\u001b[1;32m<ipython-input-55-4ea86f67f181>\u001b[0m in \u001b[0;36m<module>\u001b[1;34m()\u001b[0m\n\u001b[0;32m      1\u001b[0m \u001b[1;31m# Indexs are not mutable\u001b[0m\u001b[1;33m\u001b[0m\u001b[1;33m\u001b[0m\u001b[0m\n\u001b[1;32m----> 2\u001b[1;33m \u001b[0mmy_index\u001b[0m\u001b[1;33m[\u001b[0m\u001b[1;36m0\u001b[0m\u001b[1;33m]\u001b[0m \u001b[1;33m=\u001b[0m \u001b[1;34m'Z'\u001b[0m\u001b[1;33m\u001b[0m\u001b[0m\n\u001b[0m",
      "\u001b[1;32mC:\\Anaconda3\\lib\\site-packages\\pandas\\indexes\\base.py\u001b[0m in \u001b[0;36m__setitem__\u001b[1;34m(self, key, value)\u001b[0m\n\u001b[0;32m   1243\u001b[0m \u001b[1;33m\u001b[0m\u001b[0m\n\u001b[0;32m   1244\u001b[0m     \u001b[1;32mdef\u001b[0m \u001b[0m__setitem__\u001b[0m\u001b[1;33m(\u001b[0m\u001b[0mself\u001b[0m\u001b[1;33m,\u001b[0m \u001b[0mkey\u001b[0m\u001b[1;33m,\u001b[0m \u001b[0mvalue\u001b[0m\u001b[1;33m)\u001b[0m\u001b[1;33m:\u001b[0m\u001b[1;33m\u001b[0m\u001b[0m\n\u001b[1;32m-> 1245\u001b[1;33m         \u001b[1;32mraise\u001b[0m \u001b[0mTypeError\u001b[0m\u001b[1;33m(\u001b[0m\u001b[1;34m\"Index does not support mutable operations\"\u001b[0m\u001b[1;33m)\u001b[0m\u001b[1;33m\u001b[0m\u001b[0m\n\u001b[0m\u001b[0;32m   1246\u001b[0m \u001b[1;33m\u001b[0m\u001b[0m\n\u001b[0;32m   1247\u001b[0m     \u001b[1;32mdef\u001b[0m \u001b[0m__getitem__\u001b[0m\u001b[1;33m(\u001b[0m\u001b[0mself\u001b[0m\u001b[1;33m,\u001b[0m \u001b[0mkey\u001b[0m\u001b[1;33m)\u001b[0m\u001b[1;33m:\u001b[0m\u001b[1;33m\u001b[0m\u001b[0m\n",
      "\u001b[1;31mTypeError\u001b[0m: Index does not support mutable operations"
     ]
    }
   ],
   "source": [
    "# Indexs are not mutable \n",
    "my_index[0] = 'Z'"
   ]
  },
  {
   "cell_type": "markdown",
   "metadata": {},
   "source": [
    "## Reindex"
   ]
  },
  {
   "cell_type": "code",
   "execution_count": 56,
   "metadata": {
    "collapsed": true
   },
   "outputs": [],
   "source": [
    "series = Series([1,2,3,4], index=['A','B','C','D'])"
   ]
  },
  {
   "cell_type": "code",
   "execution_count": 57,
   "metadata": {
    "collapsed": false
   },
   "outputs": [
    {
     "data": {
      "text/plain": [
       "A    1\n",
       "B    2\n",
       "C    3\n",
       "D    4\n",
       "dtype: int64"
      ]
     },
     "execution_count": 57,
     "metadata": {},
     "output_type": "execute_result"
    }
   ],
   "source": [
    "series"
   ]
  },
  {
   "cell_type": "code",
   "execution_count": 59,
   "metadata": {
    "collapsed": false
   },
   "outputs": [
    {
     "data": {
      "text/plain": [
       "A    1.0\n",
       "B    2.0\n",
       "C    3.0\n",
       "D    4.0\n",
       "E    NaN\n",
       "dtype: float64"
      ]
     },
     "execution_count": 59,
     "metadata": {},
     "output_type": "execute_result"
    }
   ],
   "source": [
    "series.reindex(['A','B','C','D','E'])"
   ]
  },
  {
   "cell_type": "code",
   "execution_count": 60,
   "metadata": {
    "collapsed": false
   },
   "outputs": [
    {
     "data": {
      "text/plain": [
       "A    1\n",
       "B    2\n",
       "C    3\n",
       "D    4\n",
       "E    5\n",
       "dtype: int64"
      ]
     },
     "execution_count": 60,
     "metadata": {},
     "output_type": "execute_result"
    }
   ],
   "source": [
    "series.reindex(['A','B','C','D','E'], fill_value = 5)"
   ]
  },
  {
   "cell_type": "code",
   "execution_count": 61,
   "metadata": {
    "collapsed": true
   },
   "outputs": [],
   "source": [
    "countries = Series(['India','USA','Russia','Japan'], index=['IN', 'US', 'RU', 'JA'])"
   ]
  },
  {
   "cell_type": "code",
   "execution_count": 62,
   "metadata": {
    "collapsed": false
   },
   "outputs": [
    {
     "data": {
      "text/plain": [
       "IN     India\n",
       "US       USA\n",
       "RU    Russia\n",
       "JA     Japan\n",
       "dtype: object"
      ]
     },
     "execution_count": 62,
     "metadata": {},
     "output_type": "execute_result"
    }
   ],
   "source": [
    "countries"
   ]
  },
  {
   "cell_type": "code",
   "execution_count": 64,
   "metadata": {
    "collapsed": true
   },
   "outputs": [],
   "source": [
    "countries = Series(['India','USA','Russia','Japan'], index=[0,5,10,15])"
   ]
  },
  {
   "cell_type": "code",
   "execution_count": 65,
   "metadata": {
    "collapsed": false
   },
   "outputs": [
    {
     "data": {
      "text/plain": [
       "0      India\n",
       "1      India\n",
       "2      India\n",
       "3      India\n",
       "4      India\n",
       "5        USA\n",
       "6        USA\n",
       "7        USA\n",
       "8        USA\n",
       "9        USA\n",
       "10    Russia\n",
       "11    Russia\n",
       "12    Russia\n",
       "13    Russia\n",
       "14    Russia\n",
       "dtype: object"
      ]
     },
     "execution_count": 65,
     "metadata": {},
     "output_type": "execute_result"
    }
   ],
   "source": [
    "countries.reindex(range(15), method='ffill')"
   ]
  },
  {
   "cell_type": "code",
   "execution_count": 67,
   "metadata": {
    "collapsed": false
   },
   "outputs": [
    {
     "data": {
      "text/html": [
       "<div>\n",
       "<table border=\"1\" class=\"dataframe\">\n",
       "  <thead>\n",
       "    <tr style=\"text-align: right;\">\n",
       "      <th></th>\n",
       "      <th>col1</th>\n",
       "      <th>col2</th>\n",
       "      <th>col3</th>\n",
       "      <th>col4</th>\n",
       "      <th>col5</th>\n",
       "    </tr>\n",
       "  </thead>\n",
       "  <tbody>\n",
       "    <tr>\n",
       "      <th>A</th>\n",
       "      <td>-0.194447</td>\n",
       "      <td>2.004283</td>\n",
       "      <td>-0.721339</td>\n",
       "      <td>0.035626</td>\n",
       "      <td>0.414991</td>\n",
       "    </tr>\n",
       "    <tr>\n",
       "      <th>B</th>\n",
       "      <td>-1.329812</td>\n",
       "      <td>-0.213911</td>\n",
       "      <td>1.707414</td>\n",
       "      <td>-0.653968</td>\n",
       "      <td>0.868050</td>\n",
       "    </tr>\n",
       "    <tr>\n",
       "      <th>D</th>\n",
       "      <td>-0.286959</td>\n",
       "      <td>0.591036</td>\n",
       "      <td>0.663151</td>\n",
       "      <td>1.703544</td>\n",
       "      <td>0.217924</td>\n",
       "    </tr>\n",
       "    <tr>\n",
       "      <th>E</th>\n",
       "      <td>-0.931069</td>\n",
       "      <td>1.384955</td>\n",
       "      <td>0.246531</td>\n",
       "      <td>-0.066089</td>\n",
       "      <td>0.100393</td>\n",
       "    </tr>\n",
       "    <tr>\n",
       "      <th>F</th>\n",
       "      <td>-0.194551</td>\n",
       "      <td>0.401240</td>\n",
       "      <td>0.768842</td>\n",
       "      <td>0.335797</td>\n",
       "      <td>-0.922858</td>\n",
       "    </tr>\n",
       "  </tbody>\n",
       "</table>\n",
       "</div>"
      ],
      "text/plain": [
       "       col1      col2      col3      col4      col5\n",
       "A -0.194447  2.004283 -0.721339  0.035626  0.414991\n",
       "B -1.329812 -0.213911  1.707414 -0.653968  0.868050\n",
       "D -0.286959  0.591036  0.663151  1.703544  0.217924\n",
       "E -0.931069  1.384955  0.246531 -0.066089  0.100393\n",
       "F -0.194551  0.401240  0.768842  0.335797 -0.922858"
      ]
     },
     "execution_count": 67,
     "metadata": {},
     "output_type": "execute_result"
    }
   ],
   "source": [
    "from numpy.random import randn\n",
    "#Reindexing rows, columns or both\n",
    "\n",
    "#Lets make a datafram ewith some random values\n",
    "dframe = DataFrame(randn(25).reshape((5,5)),index=['A','B','D','E','F'],columns=['col1','col2','col3','col4','col5'])\n",
    "\n",
    "#Show\n",
    "dframe"
   ]
  },
  {
   "cell_type": "code",
   "execution_count": 68,
   "metadata": {
    "collapsed": true
   },
   "outputs": [],
   "source": [
    "dframe2 = dframe.reindex(['A','B','C','D','E'])"
   ]
  },
  {
   "cell_type": "code",
   "execution_count": 69,
   "metadata": {
    "collapsed": false
   },
   "outputs": [
    {
     "data": {
      "text/html": [
       "<div>\n",
       "<table border=\"1\" class=\"dataframe\">\n",
       "  <thead>\n",
       "    <tr style=\"text-align: right;\">\n",
       "      <th></th>\n",
       "      <th>col1</th>\n",
       "      <th>col2</th>\n",
       "      <th>col3</th>\n",
       "      <th>col4</th>\n",
       "      <th>col5</th>\n",
       "    </tr>\n",
       "  </thead>\n",
       "  <tbody>\n",
       "    <tr>\n",
       "      <th>A</th>\n",
       "      <td>-0.194447</td>\n",
       "      <td>2.004283</td>\n",
       "      <td>-0.721339</td>\n",
       "      <td>0.035626</td>\n",
       "      <td>0.414991</td>\n",
       "    </tr>\n",
       "    <tr>\n",
       "      <th>B</th>\n",
       "      <td>-1.329812</td>\n",
       "      <td>-0.213911</td>\n",
       "      <td>1.707414</td>\n",
       "      <td>-0.653968</td>\n",
       "      <td>0.868050</td>\n",
       "    </tr>\n",
       "    <tr>\n",
       "      <th>C</th>\n",
       "      <td>NaN</td>\n",
       "      <td>NaN</td>\n",
       "      <td>NaN</td>\n",
       "      <td>NaN</td>\n",
       "      <td>NaN</td>\n",
       "    </tr>\n",
       "    <tr>\n",
       "      <th>D</th>\n",
       "      <td>-0.286959</td>\n",
       "      <td>0.591036</td>\n",
       "      <td>0.663151</td>\n",
       "      <td>1.703544</td>\n",
       "      <td>0.217924</td>\n",
       "    </tr>\n",
       "    <tr>\n",
       "      <th>E</th>\n",
       "      <td>-0.931069</td>\n",
       "      <td>1.384955</td>\n",
       "      <td>0.246531</td>\n",
       "      <td>-0.066089</td>\n",
       "      <td>0.100393</td>\n",
       "    </tr>\n",
       "  </tbody>\n",
       "</table>\n",
       "</div>"
      ],
      "text/plain": [
       "       col1      col2      col3      col4      col5\n",
       "A -0.194447  2.004283 -0.721339  0.035626  0.414991\n",
       "B -1.329812 -0.213911  1.707414 -0.653968  0.868050\n",
       "C       NaN       NaN       NaN       NaN       NaN\n",
       "D -0.286959  0.591036  0.663151  1.703544  0.217924\n",
       "E -0.931069  1.384955  0.246531 -0.066089  0.100393"
      ]
     },
     "execution_count": 69,
     "metadata": {},
     "output_type": "execute_result"
    }
   ],
   "source": [
    "dframe2"
   ]
  },
  {
   "cell_type": "code",
   "execution_count": 70,
   "metadata": {
    "collapsed": true
   },
   "outputs": [],
   "source": [
    "new_cols = ['col1', 'col2','col3','col4','col5','col6']"
   ]
  },
  {
   "cell_type": "code",
   "execution_count": 71,
   "metadata": {
    "collapsed": false
   },
   "outputs": [
    {
     "data": {
      "text/html": [
       "<div>\n",
       "<table border=\"1\" class=\"dataframe\">\n",
       "  <thead>\n",
       "    <tr style=\"text-align: right;\">\n",
       "      <th></th>\n",
       "      <th>col1</th>\n",
       "      <th>col2</th>\n",
       "      <th>col3</th>\n",
       "      <th>col4</th>\n",
       "      <th>col5</th>\n",
       "      <th>col6</th>\n",
       "    </tr>\n",
       "  </thead>\n",
       "  <tbody>\n",
       "    <tr>\n",
       "      <th>A</th>\n",
       "      <td>-0.194447</td>\n",
       "      <td>2.004283</td>\n",
       "      <td>-0.721339</td>\n",
       "      <td>0.035626</td>\n",
       "      <td>0.414991</td>\n",
       "      <td>NaN</td>\n",
       "    </tr>\n",
       "    <tr>\n",
       "      <th>B</th>\n",
       "      <td>-1.329812</td>\n",
       "      <td>-0.213911</td>\n",
       "      <td>1.707414</td>\n",
       "      <td>-0.653968</td>\n",
       "      <td>0.868050</td>\n",
       "      <td>NaN</td>\n",
       "    </tr>\n",
       "    <tr>\n",
       "      <th>C</th>\n",
       "      <td>NaN</td>\n",
       "      <td>NaN</td>\n",
       "      <td>NaN</td>\n",
       "      <td>NaN</td>\n",
       "      <td>NaN</td>\n",
       "      <td>NaN</td>\n",
       "    </tr>\n",
       "    <tr>\n",
       "      <th>D</th>\n",
       "      <td>-0.286959</td>\n",
       "      <td>0.591036</td>\n",
       "      <td>0.663151</td>\n",
       "      <td>1.703544</td>\n",
       "      <td>0.217924</td>\n",
       "      <td>NaN</td>\n",
       "    </tr>\n",
       "    <tr>\n",
       "      <th>E</th>\n",
       "      <td>-0.931069</td>\n",
       "      <td>1.384955</td>\n",
       "      <td>0.246531</td>\n",
       "      <td>-0.066089</td>\n",
       "      <td>0.100393</td>\n",
       "      <td>NaN</td>\n",
       "    </tr>\n",
       "  </tbody>\n",
       "</table>\n",
       "</div>"
      ],
      "text/plain": [
       "       col1      col2      col3      col4      col5  col6\n",
       "A -0.194447  2.004283 -0.721339  0.035626  0.414991   NaN\n",
       "B -1.329812 -0.213911  1.707414 -0.653968  0.868050   NaN\n",
       "C       NaN       NaN       NaN       NaN       NaN   NaN\n",
       "D -0.286959  0.591036  0.663151  1.703544  0.217924   NaN\n",
       "E -0.931069  1.384955  0.246531 -0.066089  0.100393   NaN"
      ]
     },
     "execution_count": 71,
     "metadata": {},
     "output_type": "execute_result"
    }
   ],
   "source": [
    "dframe2.reindex(columns=new_cols)"
   ]
  },
  {
   "cell_type": "code",
   "execution_count": null,
   "metadata": {
    "collapsed": true
   },
   "outputs": [],
   "source": []
  }
 ],
 "metadata": {
  "anaconda-cloud": {},
  "kernelspec": {
   "display_name": "Python [Root]",
   "language": "python",
   "name": "Python [Root]"
  },
  "language_info": {
   "codemirror_mode": {
    "name": "ipython",
    "version": 3
   },
   "file_extension": ".py",
   "mimetype": "text/x-python",
   "name": "python",
   "nbconvert_exporter": "python",
   "pygments_lexer": "ipython3",
   "version": "3.5.2"
  }
 },
 "nbformat": 4,
 "nbformat_minor": 0
}
